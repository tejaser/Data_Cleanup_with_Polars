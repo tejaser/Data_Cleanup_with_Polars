{
 "cells": [
  {
   "cell_type": "code",
   "execution_count": 1,
   "id": "initial_id",
   "metadata": {
    "ExecuteTime": {
     "end_time": "2024-12-11T13:34:06.373063Z",
     "start_time": "2024-12-11T13:34:03.849155Z"
    },
    "collapsed": true
   },
   "outputs": [
    {
     "name": "stderr",
     "output_type": "stream",
     "text": [
      "[nltk_data] Downloading package stopwords to\n",
      "[nltk_data]     C:\\Users\\tejas\\AppData\\Roaming\\nltk_data...\n",
      "[nltk_data]   Package stopwords is already up-to-date!\n"
     ]
    }
   ],
   "source": [
    "import json\n",
    "import re\n",
    "\n",
    "import polars as pl\n",
    "import string\n",
    "\n",
    "from textblob import TextBlob\n",
    "import emoji\n",
    "\n",
    "import nltk\n",
    "nltk.download('stopwords')\n",
    "from nltk.corpus import stopwords"
   ]
  },
  {
   "cell_type": "code",
   "execution_count": 2,
   "id": "6d72d7a3eac0f95d",
   "metadata": {
    "ExecuteTime": {
     "end_time": "2024-12-11T13:34:17.834069Z",
     "start_time": "2024-12-11T13:34:06.439067Z"
    }
   },
   "outputs": [],
   "source": [
    "data = pl.read_csv(\"https://raw.githubusercontent.com/Ankit152/IMDB-sentiment-analysis/master/IMDB-Dataset.csv\")"
   ]
  },
  {
   "cell_type": "code",
   "execution_count": 6,
   "id": "5181e8f9a4ad54d5",
   "metadata": {
    "ExecuteTime": {
     "end_time": "2024-12-11T13:39:23.943704Z",
     "start_time": "2024-12-11T13:39:23.940171Z"
    }
   },
   "outputs": [
    {
     "name": "stdout",
     "output_type": "stream",
     "text": [
      "shape: (50_000, 2)\n",
      "┌─────────────────────────────────┬───────────┐\n",
      "│ review                          ┆ sentiment │\n",
      "│ ---                             ┆ ---       │\n",
      "│ str                             ┆ str       │\n",
      "╞═════════════════════════════════╪═══════════╡\n",
      "│ One of the other reviewers has… ┆ positive  │\n",
      "│ A wonderful little production.… ┆ positive  │\n",
      "│ I thought this was a wonderful… ┆ positive  │\n",
      "│ Basically there's a family whe… ┆ negative  │\n",
      "│ Petter Mattei's \"Love in the T… ┆ positive  │\n",
      "│ …                               ┆ …         │\n",
      "│ I thought this movie did a dow… ┆ positive  │\n",
      "│ Bad plot, bad dialogue, bad ac… ┆ negative  │\n",
      "│ I am a Catholic taught in paro… ┆ negative  │\n",
      "│ I'm going to have to disagree … ┆ negative  │\n",
      "│ No one expects the Star Trek m… ┆ negative  │\n",
      "└─────────────────────────────────┴───────────┘\n"
     ]
    }
   ],
   "source": [
    "print(data)"
   ]
  },
  {
   "cell_type": "code",
   "execution_count": 9,
   "id": "5f9ea6ccf234a19d",
   "metadata": {
    "ExecuteTime": {
     "end_time": "2024-12-11T13:48:42.436961Z",
     "start_time": "2024-12-11T13:48:42.433961Z"
    }
   },
   "outputs": [
    {
     "name": "stdout",
     "output_type": "stream",
     "text": [
      "Rows: 50000\n",
      "Columns: 2\n",
      "$ review    <str> \"One of the other reviewers has mentioned that after watching just 1 Oz episode you'll be hooked. They are right, as this is exactly what happened with me.<br /><br />The first thing that struck me about Oz was its brutality and unflinching scenes of violence, which set in right from the word GO. Trust me, this is not a show for the faint hearted or timid. This show pulls no punches with regards to drugs, sex or violence. Its is hardcore, in the classic use of the word.<br /><br />It is called OZ as that is the nickname given to the Oswald Maximum Security State Penitentary. It focuses mainly on Emerald City, an experimental section of the prison where all the cells have glass fronts and face inwards, so privacy is not high on the agenda. Em City is home to many..Aryans, Muslims, gangstas, Latinos, Christians, Italians, Irish and more....so scuffles, death stares, dodgy dealings and shady agreements are never far away.<br /><br />I would say the main appeal of the show is due to the fact that it goes where other shows wouldn't dare. Forget pretty pictures painted for mainstream audiences, forget charm, forget romance...OZ doesn't mess around. The first episode I ever saw struck me as so nasty it was surreal, I couldn't say I was ready for it, but as I watched more, I developed a taste for Oz, and got accustomed to the high levels of graphic violence. Not just violence, but injustice (crooked guards who'll be sold out for a nickel, inmates who'll kill on order and get away with it, well mannered, middle class inmates being turned into prison bitches due to their lack of street skills or prison experience) Watching Oz, you may become comfortable with what is uncomfortable viewing....thats if you can get in touch with your darker side.\", 'A wonderful little production. <br /><br />The filming technique is very unassuming- very old-time-BBC fashion and gives a comforting, and sometimes discomforting, sense of realism to the entire piece. <br /><br />The actors are extremely well chosen- Michael Sheen not only \"has got all the polari\" but he has all the voices down pat too! You can truly see the seamless editing guided by the references to Williams\\' diary entries, not only is it well worth the watching but it is a terrificly written and performed piece. A masterful production about one of the great master\\'s of comedy and his life. <br /><br />The realism really comes home with the little things: the fantasy of the guard which, rather than use the traditional \\'dream\\' techniques remains solid then disappears. It plays on our knowledge and our senses, particularly with the scenes concerning Orton and Halliwell and the sets (particularly of their flat with Halliwell\\'s murals decorating every surface) are terribly well done.', 'I thought this was a wonderful way to spend time on a too hot summer weekend, sitting in the air conditioned theater and watching a light-hearted comedy. The plot is simplistic, but the dialogue is witty and the characters are likable (even the well bread suspected serial killer). While some may be disappointed when they realize this is not Match Point 2: Risk Addiction, I thought it was proof that Woody Allen is still fully in control of the style many of us have grown to love.<br /><br />This was the most I\\'d laughed at one of Woody\\'s comedies in years (dare I say a decade?). While I\\'ve never been impressed with Scarlet Johanson, in this she managed to tone down her \"sexy\" image and jumped right into a average, but spirited young woman.<br /><br />This may not be the crown jewel of his career, but it was wittier than \"Devil Wears Prada\" and more interesting than \"Superman\" a great comedy to go see with friends.', \"Basically there's a family where a little boy (Jake) thinks there's a zombie in his closet & his parents are fighting all the time.<br /><br />This movie is slower than a soap opera... and suddenly, Jake decides to become Rambo and kill the zombie.<br /><br />OK, first of all when you're going to make a film you must Decide if its a thriller or a drama! As a drama the movie is watchable. Parents are divorcing & arguing like in real life. And then we have Jake with his closet which totally ruins all the film! I expected to see a BOOGEYMAN similar movie, and instead i watched a drama with some meaningless thriller spots.<br /><br />3 out of 10 just for the well playing parents & descent dialogs. As for the shots with Jake: just ignore them.\", 'Petter Mattei\\'s \"Love in the Time of Money\" is a visually stunning film to watch. Mr. Mattei offers us a vivid portrait about human relations. This is a movie that seems to be telling us what money, power and success do to people in the different situations we encounter. <br /><br />This being a variation on the Arthur Schnitzler\\'s play about the same theme, the director transfers the action to the present time New York where all these different characters meet and connect. Each one is connected in one way, or another to the next person, but no one seems to know the previous point of contact. Stylishly, the film has a sophisticated luxurious look. We are taken to see how these people live and the world they live in their own habitat.<br /><br />The only thing one gets out of all these souls in the picture is the different stages of loneliness each one inhabits. A big city is not exactly the best place in which human relations find sincere fulfillment, as one discerns is the case with most of the people we encounter.<br /><br />The acting is good under Mr. Mattei\\'s direction. Steve Buscemi, Rosario Dawson, Carol Kane, Michael Imperioli, Adrian Grenier, and the rest of the talented cast, make these characters come alive.<br /><br />We wish Mr. Mattei good luck and await anxiously for his next work.', 'Probably my all-time favorite movie, a story of selflessness, sacrifice and dedication to a noble cause, but it\\'s not preachy or boring. It just never gets old, despite my having seen it some 15 or more times in the last 25 years. Paul Lukas\\' performance brings tears to my eyes, and Bette Davis, in one of her very few truly sympathetic roles, is a delight. The kids are, as grandma says, more like \"dressed-up midgets\" than children, but that only makes them more fun to watch. And the mother\\'s slow awakening to what\\'s happening in the world and under her own roof is believable and startling. If I had a dozen thumbs, they\\'d all be \"up\" for this movie.', \"I sure would like to see a resurrection of a up dated Seahunt series with the tech they have today it would bring back the kid excitement in me.I grew up on black and white TV and Seahunt with Gunsmoke were my hero's every week.You have my vote for a comeback of a new sea hunt.We need a change of pace in TV and this would work for a world of under water adventure.Oh by the way thank you for an outlet like this to view many viewpoints about TV and the many movies.So any ole way I believe I've got what I wanna say.Would be nice to read some more plus points about sea hunt.If my rhymes would be 10 lines would you let me submit,or leave me out to be in doubt and have me to quit,If this is so then I must go so lets do it.\", \"This show was an amazing, fresh & innovative idea in the 70's when it first aired. The first 7 or 8 years were brilliant, but things dropped off after that. By 1990, the show was not really funny anymore, and it's continued its decline further to the complete waste of time it is today.<br /><br />It's truly disgraceful how far this show has fallen. The writing is painfully bad, the performances are almost as bad - if not for the mildly entertaining respite of the guest-hosts, this show probably wouldn't still be on the air. I find it so hard to believe that the same creator that hand-selected the original cast also chose the band of hacks that followed. How can one recognize such brilliance and then see fit to replace it with such mediocrity? I felt I must give 2 stars out of respect for the original cast that made this show such a huge success. As it is now, the show is just awful. I can't believe it's still on the air.\", \"Encouraged by the positive comments about this film on here I was looking forward to watching this film. Bad mistake. I've seen 950+ films and this is truly one of the worst of them - it's awful in almost every way: editing, pacing, storyline, 'acting,' soundtrack (the film's only song - a lame country tune - is played no less than four times). The film looks cheap and nasty and is boring in the extreme. Rarely have I been so happy to see the end credits of a film. <br /><br />The only thing that prevents me giving this a 1-score is Harvey Keitel - while this is far from his best performance he at least seems to be making a bit of an effort. One for Keitel obsessives only.\", 'If you like original gut wrenching laughter you will like this movie. If you are young or old then you will love this movie, hell even my mom liked it.<br /><br />Great Camp!!!'\n",
      "$ sentiment <str> 'positive', 'positive', 'positive', 'negative', 'positive', 'positive', 'positive', 'negative', 'negative', 'positive'\n",
      "\n"
     ]
    }
   ],
   "source": [
    "data.glimpse()"
   ]
  },
  {
   "cell_type": "code",
   "execution_count": 3,
   "id": "a189c062d896dfef",
   "metadata": {
    "ExecuteTime": {
     "end_time": "2024-12-11T13:34:18.060879Z",
     "start_time": "2024-12-11T13:34:18.048488Z"
    }
   },
   "outputs": [
    {
     "data": {
      "text/html": [
       "<div><style>\n",
       ".dataframe > thead > tr,\n",
       ".dataframe > tbody > tr {\n",
       "  text-align: right;\n",
       "  white-space: pre-wrap;\n",
       "}\n",
       "</style>\n",
       "<small>shape: (5, 2)</small><table border=\"1\" class=\"dataframe\"><thead><tr><th>review</th><th>sentiment</th></tr><tr><td>str</td><td>str</td></tr></thead><tbody><tr><td>&quot;One of the other reviewers has…</td><td>&quot;positive&quot;</td></tr><tr><td>&quot;A wonderful little production.…</td><td>&quot;positive&quot;</td></tr><tr><td>&quot;I thought this was a wonderful…</td><td>&quot;positive&quot;</td></tr><tr><td>&quot;Basically there&#x27;s a family whe…</td><td>&quot;negative&quot;</td></tr><tr><td>&quot;Petter Mattei&#x27;s &quot;Love in the T…</td><td>&quot;positive&quot;</td></tr></tbody></table></div>"
      ],
      "text/plain": [
       "shape: (5, 2)\n",
       "┌─────────────────────────────────┬───────────┐\n",
       "│ review                          ┆ sentiment │\n",
       "│ ---                             ┆ ---       │\n",
       "│ str                             ┆ str       │\n",
       "╞═════════════════════════════════╪═══════════╡\n",
       "│ One of the other reviewers has… ┆ positive  │\n",
       "│ A wonderful little production.… ┆ positive  │\n",
       "│ I thought this was a wonderful… ┆ positive  │\n",
       "│ Basically there's a family whe… ┆ negative  │\n",
       "│ Petter Mattei's \"Love in the T… ┆ positive  │\n",
       "└─────────────────────────────────┴───────────┘"
      ]
     },
     "execution_count": 3,
     "metadata": {},
     "output_type": "execute_result"
    }
   ],
   "source": [
    "data.head()"
   ]
  },
  {
   "cell_type": "code",
   "execution_count": null,
   "id": "eb47f3a72a9fd2a",
   "metadata": {
    "ExecuteTime": {
     "end_time": "2024-12-11T13:47:02.916546Z",
     "start_time": "2024-12-11T13:47:02.913042Z"
    }
   },
   "outputs": [
    {
     "data": {
      "text/plain": [
       "list"
      ]
     },
     "execution_count": 8,
     "metadata": {},
     "output_type": "execute_result"
    }
   ],
   "source": [
    "data.columns"
   ]
  },
  {
   "cell_type": "code",
   "execution_count": 5,
   "id": "c19a7fa6a0c075f9",
   "metadata": {
    "ExecuteTime": {
     "end_time": "2024-12-11T13:35:01.571377Z",
     "start_time": "2024-12-11T13:35:01.030029Z"
    }
   },
   "outputs": [
    {
     "data": {
      "text/html": [
       "<div><style>\n",
       ".dataframe > thead > tr,\n",
       ".dataframe > tbody > tr {\n",
       "  text-align: right;\n",
       "  white-space: pre-wrap;\n",
       "}\n",
       "</style>\n",
       "<small>shape: (9, 3)</small><table border=\"1\" class=\"dataframe\"><thead><tr><th>statistic</th><th>review</th><th>sentiment</th></tr><tr><td>str</td><td>str</td><td>str</td></tr></thead><tbody><tr><td>&quot;count&quot;</td><td>&quot;50000&quot;</td><td>&quot;50000&quot;</td></tr><tr><td>&quot;null_count&quot;</td><td>&quot;0&quot;</td><td>&quot;0&quot;</td></tr><tr><td>&quot;mean&quot;</td><td>null</td><td>null</td></tr><tr><td>&quot;std&quot;</td><td>null</td><td>null</td></tr><tr><td>&quot;min&quot;</td><td>&quot;\b\b\b\bA Turkish Bath sequence in…</td><td>&quot;negative&quot;</td></tr><tr><td>&quot;25%&quot;</td><td>null</td><td>null</td></tr><tr><td>&quot;50%&quot;</td><td>null</td><td>null</td></tr><tr><td>&quot;75%&quot;</td><td>null</td><td>null</td></tr><tr><td>&quot;max&quot;</td><td>&quot;ý thýnk uzak ýs the one of the…</td><td>&quot;positive&quot;</td></tr></tbody></table></div>"
      ],
      "text/plain": [
       "shape: (9, 3)\n",
       "┌────────────┬─────────────────────────────────┬───────────┐\n",
       "│ statistic  ┆ review                          ┆ sentiment │\n",
       "│ ---        ┆ ---                             ┆ ---       │\n",
       "│ str        ┆ str                             ┆ str       │\n",
       "╞════════════╪═════════════════════════════════╪═══════════╡\n",
       "│ count      ┆ 50000                           ┆ 50000     │\n",
       "│ null_count ┆ 0                               ┆ 0         │\n",
       "│ mean       ┆ null                            ┆ null      │\n",
       "│ std        ┆ null                            ┆ null      │\n",
       "│ min        ┆ \b\b\b\bA Turkish Bath sequence in… ┆ negative  │\n",
       "│ 25%        ┆ null                            ┆ null      │\n",
       "│ 50%        ┆ null                            ┆ null      │\n",
       "│ 75%        ┆ null                            ┆ null      │\n",
       "│ max        ┆ ý thýnk uzak ýs the one of the… ┆ positive  │\n",
       "└────────────┴─────────────────────────────────┴───────────┘"
      ]
     },
     "execution_count": 5,
     "metadata": {},
     "output_type": "execute_result"
    }
   ],
   "source": [
    "data.describe()"
   ]
  },
  {
   "cell_type": "markdown",
   "id": "7235128a9ccce9f7",
   "metadata": {},
   "source": [
    "### Tasks list for data cleanup\n",
    "- tokenization\n",
    "- uppercase to lowercase\n",
    "- emoji removal\n",
    "- panctuation removal\n",
    "- html / url tag removal\n",
    "- stopword removal\n",
    "- abbreviation or slang correction\n",
    "- stemming and lemmetization\n",
    "- spelling correction\n",
    "- whitespace removal"
   ]
  },
  {
   "cell_type": "code",
   "execution_count": 4,
   "id": "ea4d8efd5cd6dbaf",
   "metadata": {
    "ExecuteTime": {
     "end_time": "2024-12-05T16:55:45.901712Z",
     "start_time": "2024-12-05T16:55:45.898768Z"
    }
   },
   "outputs": [
    {
     "data": {
      "text/plain": [
       "polars.series.series.Series"
      ]
     },
     "execution_count": 4,
     "metadata": {},
     "output_type": "execute_result"
    }
   ],
   "source": [
    "type(data[\"review\"])"
   ]
  },
  {
   "cell_type": "markdown",
   "id": "3e6504a870ae2707",
   "metadata": {},
   "source": [
    "#### Test dataframe to check functionality"
   ]
  },
  {
   "cell_type": "code",
   "execution_count": null,
   "id": "ec50a6e5e4be0578",
   "metadata": {
    "ExecuteTime": {
     "end_time": "2024-12-05T16:55:45.923854Z",
     "start_time": "2024-12-05T16:55:45.920716Z"
    }
   },
   "outputs": [],
   "source": [
    "data_bkup = data.clone() # create backup in case you want to go back to original data"
   ]
  },
  {
   "cell_type": "code",
   "execution_count": 2,
   "id": "66ffa509031e7003",
   "metadata": {
    "ExecuteTime": {
     "end_time": "2024-12-06T13:30:22.769297Z",
     "start_time": "2024-12-06T13:30:22.766297Z"
    }
   },
   "outputs": [],
   "source": [
    "punctuation_marks = string.punctuation\n",
    "punctuation_pattern = f\"[{re.escape(punctuation_marks)}]\""
   ]
  },
  {
   "cell_type": "code",
   "execution_count": 21,
   "id": "631efd4dd900b4dd",
   "metadata": {
    "ExecuteTime": {
     "end_time": "2024-12-06T13:36:35.068449Z",
     "start_time": "2024-12-06T13:36:35.065450Z"
    }
   },
   "outputs": [],
   "source": [
    "# Example DataFrame\n",
    "data = pl.DataFrame({\n",
    "    \"review\": [\n",
    "        \"This is a  great product!!!  \",\n",
    "        \"Check   it  out...  It works well, right?  \",\n",
    "        \"LMAO this product is gr8\",\n",
    "        \"afaik, it wrks for me but ATM I have no idea.\",\n",
    "        \"AFAIK, this is the best prodcut, ATM it works fine.\",\n",
    "        \"I love this product! 😊👍\",\n",
    "        None\n",
    "    ],\n",
    "    \"comments\": [\n",
    "        \"😍Great service!! Highly recommend... \",\n",
    "        \"Not bad... could be improved!! \",\n",
    "        None,\n",
    "        \"I want it asap\",\n",
    "        \"Not great, very disappointed 😞\",\n",
    "        \"A3, can't wait to see moer.\",\n",
    "        \"I will be AFK for a while, but ASAP I'll respnd.\",\n",
    "    ]\n",
    "})\n",
    "with open('../slang_output.json', 'r') as file:\n",
    "    chat_slang = json.load(file)"
   ]
  },
  {
   "cell_type": "code",
   "execution_count": 4,
   "id": "f74f771e69e5d808",
   "metadata": {
    "ExecuteTime": {
     "end_time": "2024-12-06T13:30:31.235571Z",
     "start_time": "2024-12-06T13:30:31.230961Z"
    }
   },
   "outputs": [
    {
     "data": {
      "text/plain": [
       "dict_keys(['AFAIK', 'AFK', 'ASAP', 'ATK', 'ATM', 'A3', 'BAK', 'BBL', 'BBS', 'BFN', 'B4N', 'BRB', 'BRT', 'BTW', 'B4', 'CU', 'CUL8R', 'CYA', 'FAQ', 'FC', 'FWIW', 'FYI', 'GAL', 'GG', 'GN', 'GMTA', 'GR8', 'G9', 'IC', 'ICQ', 'ILU', 'IMHO', 'IMO', 'IOW', 'IRL', 'KISS', 'LDR', 'LMAO', 'LOL', 'LTNS', 'L8R', 'MTE', 'M8', 'NRN', 'OIC', 'PITA', 'PRT', 'PRW', 'ROFL', 'ROFLOL', 'ROTFLMAO', 'SK8', 'STATS', 'ASL', 'THX', 'TTFN', 'TTYL', 'U', 'U2', 'U4E', 'WB', 'WTF', 'WTG', 'WUF', 'W8', '7K', 'TFW', 'MFW', 'MRW', 'IFYP', 'TNTL', 'JK', 'IDC', 'ILY', 'IMU', 'ADIH', 'ZZZ', 'WYWH', 'TIME', 'BAE', 'FIMH', 'BSAAW', 'BWL', 'BFF', 'CSL'])"
      ]
     },
     "execution_count": 4,
     "metadata": {},
     "output_type": "execute_result"
    }
   ],
   "source": [
    "chat_slang.keys()"
   ]
  },
  {
   "cell_type": "code",
   "execution_count": 5,
   "id": "1d1a300d89e241ee",
   "metadata": {
    "ExecuteTime": {
     "end_time": "2024-12-06T13:30:32.916451Z",
     "start_time": "2024-12-06T13:30:32.914022Z"
    }
   },
   "outputs": [],
   "source": [
    "def replace_abbreviations(column, slang_dict):\n",
    "    # Function to replace abbreviations in a column (case-sensitive)\n",
    "    for slang, full_form in slang_dict.items():\n",
    "        column = column.str.replace_all(rf\"\\b{slang}\\b\", full_form)\n",
    "    return column"
   ]
  },
  {
   "cell_type": "code",
   "execution_count": 6,
   "id": "c5ebd490f18ff805",
   "metadata": {
    "ExecuteTime": {
     "end_time": "2024-12-06T13:30:34.726910Z",
     "start_time": "2024-12-06T13:30:34.724023Z"
    }
   },
   "outputs": [],
   "source": [
    "def correct_spelling(text):\n",
    "    # Function to correct spelling using TextBlob\n",
    "    if text:\n",
    "        blob = TextBlob(text)\n",
    "        return str(blob.correct().string)\n",
    "    return text"
   ]
  },
  {
   "cell_type": "code",
   "execution_count": 7,
   "id": "22f810289752aaa3",
   "metadata": {
    "ExecuteTime": {
     "end_time": "2024-12-06T13:30:37.287555Z",
     "start_time": "2024-12-06T13:30:37.284557Z"
    }
   },
   "outputs": [],
   "source": [
    "# List of columns to clean\n",
    "columns_to_clean = [\"review\", \"comments\"]"
   ]
  },
  {
   "cell_type": "code",
   "execution_count": 8,
   "id": "a15764442d2fd7b2",
   "metadata": {
    "ExecuteTime": {
     "end_time": "2024-12-06T13:30:39.726497Z",
     "start_time": "2024-12-06T13:30:39.723514Z"
    }
   },
   "outputs": [],
   "source": [
    "\n",
    "def convert_emoji_to_text(text):\n",
    "    return emoji.demojize(text)"
   ]
  },
  {
   "cell_type": "code",
   "execution_count": 9,
   "id": "eb3a027b1628df31",
   "metadata": {
    "ExecuteTime": {
     "end_time": "2024-12-06T13:30:43.872411Z",
     "start_time": "2024-12-06T13:30:43.869777Z"
    }
   },
   "outputs": [],
   "source": [
    "def clean_column(column):\n",
    "    # Function to clean text in each column\n",
    "    # step 1: replace chat slang with abbreviation\n",
    "    column = replace_abbreviations(column, chat_slang)\n",
    "    # step 2: data cleanup\n",
    "    column = (\n",
    "        column.str.replace_all(r'https?://\\S+|www\\.\\S+', '') # remove url\n",
    "    .str.replace_all(r'<.*?>', '')  # remove html tags\n",
    "    .str.replace_all(punctuation_pattern, '')  # remove punctuation marks\n",
    "    .str.replace_all(r\"[^\\x00-\\x7F]+\", \"\")  # Optionally remove any non-ASCII characters\n",
    "    .str.to_lowercase() # convert to lower case\n",
    "    )\n",
    "    return column"
   ]
  },
  {
   "cell_type": "code",
   "execution_count": 27,
   "id": "15a8ba71b1dd4c72",
   "metadata": {
    "ExecuteTime": {
     "end_time": "2024-12-06T13:37:46.400003Z",
     "start_time": "2024-12-06T13:37:46.082359Z"
    }
   },
   "outputs": [],
   "source": [
    "# Apply the cleaning function to each column\n",
    "data = data.with_columns([\n",
    "    clean_column(pl.col(col)).alias(col) for col in columns_to_clean\n",
    "])"
   ]
  },
  {
   "cell_type": "code",
   "execution_count": 10,
   "id": "c21ae9982a9e6054",
   "metadata": {
    "ExecuteTime": {
     "end_time": "2024-12-06T13:30:48.220880Z",
     "start_time": "2024-12-06T13:30:48.217173Z"
    }
   },
   "outputs": [],
   "source": [
    "def remove_stop_words(text):\n",
    "    new_text = []\n",
    "    for words in text.split():\n",
    "        if words in stopwords.words('english'):\n",
    "            new_text.append(\"\")\n",
    "        else:\n",
    "            new_text.append(words.strip())\n",
    "    return \" \".join(new_text)"
   ]
  },
  {
   "cell_type": "code",
   "execution_count": 14,
   "id": "baa37e65a5d498e2",
   "metadata": {
    "ExecuteTime": {
     "end_time": "2024-12-06T13:33:19.646683Z",
     "start_time": "2024-12-06T13:33:19.642831Z"
    }
   },
   "outputs": [],
   "source": [
    "def clean_text_column(data: pl.DataFrame, columns_to_clean: list) -> pl.DataFrame:\n",
    "    for col in columns_to_clean:\n",
    "        data = data.with_columns([\n",
    "            pl.col(col).map_elements(\n",
    "                lambda x: remove_stop_words(x) if x else x,\n",
    "                return_dtype=pl.Utf8\n",
    "            ).alias(f\"{col}_cleaned_stops\"),\n",
    "            pl.col(f\"{col}_cleaned_stops\").map_elements(\n",
    "                lambda x: convert_emoji_to_text(x) if x else x,\n",
    "                return_dtype=pl.Utf8\n",
    "            ).alias(col)\n",
    "        ])\n",
    "    return data"
   ]
  },
  {
   "cell_type": "code",
   "execution_count": 22,
   "id": "5af4cdc3520a85c0",
   "metadata": {
    "ExecuteTime": {
     "end_time": "2024-12-06T13:36:43.783994Z",
     "start_time": "2024-12-06T13:36:43.780591Z"
    }
   },
   "outputs": [
    {
     "name": "stdout",
     "output_type": "stream",
     "text": [
      "shape: (7, 2)\n",
      "┌─────────────────────────────────┬─────────────────────────────────┐\n",
      "│ review                          ┆ comments                        │\n",
      "│ ---                             ┆ ---                             │\n",
      "│ str                             ┆ str                             │\n",
      "╞═════════════════════════════════╪═════════════════════════════════╡\n",
      "│ This is a  great product!!!     ┆ 😍Great service!! Highly        │\n",
      "│                                 ┆ recomm…                         │\n",
      "│ Check   it  out...  It works w… ┆ Not bad... could be improved!!… │\n",
      "│ LMAO this product is gr8        ┆ null                            │\n",
      "│ afaik, it wrks for me but ATM … ┆ I want it asap                  │\n",
      "│ AFAIK, this is the best prodcu… ┆ Not great, very disappointed 😞 │\n",
      "│ I love this product! 😊👍       ┆ A3, can't wait to see moer.     │\n",
      "│ null                            ┆ I will be AFK for a while, but… │\n",
      "└─────────────────────────────────┴─────────────────────────────────┘\n"
     ]
    }
   ],
   "source": [
    "print(data)"
   ]
  },
  {
   "cell_type": "code",
   "execution_count": 23,
   "id": "d2f3cdf208e5bab6",
   "metadata": {
    "ExecuteTime": {
     "end_time": "2024-12-06T13:37:23.282854Z",
     "start_time": "2024-12-06T13:37:23.273820Z"
    }
   },
   "outputs": [],
   "source": [
    "for col in columns_to_clean:\n",
    "    data = data.with_columns([\n",
    "        pl.col(\"review\").map_elements(\n",
    "            lambda x: remove_stop_words(x) if x else x,\n",
    "            return_dtype=pl.Utf8\n",
    "        ).alias(\"review\"),\n",
    "    ])"
   ]
  },
  {
   "cell_type": "code",
   "execution_count": 25,
   "id": "79674b6e51ac89b5",
   "metadata": {
    "ExecuteTime": {
     "end_time": "2024-12-06T13:37:33.453636Z",
     "start_time": "2024-12-06T13:37:33.449859Z"
    }
   },
   "outputs": [],
   "source": [
    "for col in columns_to_clean:\n",
    "    data = data.with_columns([\n",
    "        pl.col(\"review\").map_elements(\n",
    "            lambda x: convert_emoji_to_text(x) if x else x,\n",
    "            return_dtype=pl.Utf8\n",
    "        ).alias(\"review\"),\n",
    "    ])"
   ]
  },
  {
   "cell_type": "code",
   "execution_count": 26,
   "id": "76c4e11590781432",
   "metadata": {
    "ExecuteTime": {
     "end_time": "2024-12-06T13:37:35.603438Z",
     "start_time": "2024-12-06T13:37:35.600476Z"
    }
   },
   "outputs": [
    {
     "name": "stdout",
     "output_type": "stream",
     "text": [
      "shape: (7, 2)\n",
      "┌─────────────────────────────────┬─────────────────────────────────┐\n",
      "│ review                          ┆ comments                        │\n",
      "│ ---                             ┆ ---                             │\n",
      "│ str                             ┆ str                             │\n",
      "╞═════════════════════════════════╪═════════════════════════════════╡\n",
      "│ This great product!!!           ┆ 😍Great service!! Highly        │\n",
      "│                                 ┆ recomm…                         │\n",
      "│ Check out... It works well, ri… ┆ Not bad... could be improved!!… │\n",
      "│ LMAO product gr8                ┆ null                            │\n",
      "│ afaik, wrks ATM I idea.         ┆ I want it asap                  │\n",
      "│ AFAIK, best prodcut, ATM works… ┆ Not great, very disappointed 😞 │\n",
      "│ I love product! :smiling_face_… ┆ A3, can't wait to see moer.     │\n",
      "│ null                            ┆ I will be AFK for a while, but… │\n",
      "└─────────────────────────────────┴─────────────────────────────────┘\n"
     ]
    }
   ],
   "source": [
    "print(data)"
   ]
  },
  {
   "cell_type": "markdown",
   "id": "719b0138",
   "metadata": {},
   "source": [
    "# if there is a functionality which is not supported by polars you can conver Polars Dataframe to Pandas Dataframe and use Pandas functionality"
   ]
  },
  {
   "cell_type": "code",
   "execution_count": null,
   "id": "c8683f9c0aaeb3f7",
   "metadata": {
    "ExecuteTime": {
     "end_time": "2024-12-05T17:38:10.876735Z",
     "start_time": "2024-12-05T17:38:10.864723Z"
    }
   },
   "outputs": [
    {
     "name": "stderr",
     "output_type": "stream",
     "text": [
      "[nltk_data] Downloading package stopwords to\n",
      "[nltk_data]     C:\\Users\\tejas\\AppData\\Roaming\\nltk_data...\n",
      "[nltk_data]   Package stopwords is already up-to-date!\n"
     ]
    }
   ],
   "source": [
    "data_pandas = data.to_pandas()\n",
    "for col in columns_to_clean:\n",
    "    data_pandas[col] = data_pandas[col].apply(lambda x: remove_stop_words(x) if x else x)\n",
    "    data_pandas[col] = data_pandas[col].apply(lambda x: convert_emoji_to_text(x) if x else x)\n",
    "data = pl.from_pandas(data_pandas)"
   ]
  },
  {
   "cell_type": "code",
   "execution_count": 28,
   "id": "6925e3c9dc1e4653",
   "metadata": {
    "ExecuteTime": {
     "end_time": "2024-12-06T13:37:51.904773Z",
     "start_time": "2024-12-06T13:37:51.902662Z"
    }
   },
   "outputs": [
    {
     "name": "stdout",
     "output_type": "stream",
     "text": [
      "shape: (7, 2)\n",
      "┌─────────────────────────────────┬─────────────────────────────────┐\n",
      "│ review                          ┆ comments                        │\n",
      "│ ---                             ┆ ---                             │\n",
      "│ str                             ┆ str                             │\n",
      "╞═════════════════════════════════╪═════════════════════════════════╡\n",
      "│ this great product              ┆ great service highly recommend… │\n",
      "│ check out it works well right   ┆ not bad could be improved       │\n",
      "│ laughing my a off product gr8   ┆ null                            │\n",
      "│ afaik wrks at the moment i ide… ┆ i want it asap                  │\n",
      "│ as far as i know best prodcut … ┆ not great very disappointed     │\n",
      "│ i love product smilingfacewith… ┆ anytime anywhere anyplace cant… │\n",
      "│ null                            ┆ i will be away from keyboard f… │\n",
      "└─────────────────────────────────┴─────────────────────────────────┘\n"
     ]
    }
   ],
   "source": [
    "print(data)"
   ]
  },
  {
   "cell_type": "code",
   "execution_count": 146,
   "id": "db84131f1edf9300",
   "metadata": {
    "ExecuteTime": {
     "end_time": "2024-12-05T17:38:55.907156Z",
     "start_time": "2024-12-05T17:38:55.903157Z"
    }
   },
   "outputs": [
    {
     "data": {
      "text/html": [
       "<div><style>\n",
       ".dataframe > thead > tr,\n",
       ".dataframe > tbody > tr {\n",
       "  text-align: right;\n",
       "  white-space: pre-wrap;\n",
       "}\n",
       "</style>\n",
       "<small>shape: (7, 2)</small><table border=\"1\" class=\"dataframe\"><thead><tr><th>review</th><th>comments</th></tr><tr><td>str</td><td>str</td></tr></thead><tbody><tr><td>&quot;this great product&quot;</td><td>&quot;smilingfacewithhearteyesgreat …</td></tr><tr><td>&quot;check out it works well right&quot;</td><td>&quot;not bad could improved&quot;</td></tr><tr><td>&quot;lmao product gr8&quot;</td><td>null</td></tr><tr><td>&quot;afaik wrks atm i idea&quot;</td><td>&quot;i want asap&quot;</td></tr><tr><td>&quot;afaik best prodcut atm works f…</td><td>&quot;not great disappointed disappo…</td></tr><tr><td>&quot;i love product smilingfacewith…</td><td>&quot;a3 cant wait see moer&quot;</td></tr><tr><td>null</td><td>&quot;i afk while asap ill respnd&quot;</td></tr></tbody></table></div>"
      ],
      "text/plain": [
       "shape: (7, 2)\n",
       "┌─────────────────────────────────┬─────────────────────────────────┐\n",
       "│ review                          ┆ comments                        │\n",
       "│ ---                             ┆ ---                             │\n",
       "│ str                             ┆ str                             │\n",
       "╞═════════════════════════════════╪═════════════════════════════════╡\n",
       "│ this great product              ┆ smilingfacewithhearteyesgreat … │\n",
       "│ check out it works well right   ┆ not bad could improved          │\n",
       "│ lmao product gr8                ┆ null                            │\n",
       "│ afaik wrks atm i idea           ┆ i want asap                     │\n",
       "│ afaik best prodcut atm works f… ┆ not great disappointed disappo… │\n",
       "│ i love product smilingfacewith… ┆ a3 cant wait see moer           │\n",
       "│ null                            ┆ i afk while asap ill respnd     │\n",
       "└─────────────────────────────────┴─────────────────────────────────┘"
      ]
     },
     "execution_count": 146,
     "metadata": {},
     "output_type": "execute_result"
    }
   ],
   "source": [
    "data"
   ]
  },
  {
   "cell_type": "code",
   "execution_count": null,
   "id": "95e18a74aae79533",
   "metadata": {},
   "outputs": [],
   "source": []
  }
 ],
 "metadata": {
  "kernelspec": {
   "display_name": "Python 3",
   "language": "python",
   "name": "python3"
  },
  "language_info": {
   "codemirror_mode": {
    "name": "ipython",
    "version": 2
   },
   "file_extension": ".py",
   "mimetype": "text/x-python",
   "name": "python",
   "nbconvert_exporter": "python",
   "pygments_lexer": "ipython2",
   "version": "2.7.6"
  }
 },
 "nbformat": 4,
 "nbformat_minor": 5
}
